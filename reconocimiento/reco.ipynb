{
 "cells": [
  {
   "cell_type": "markdown",
   "id": "f1feb463",
   "metadata": {},
   "source": [
    "<h1 style='text-align:center'>RECONOCIMIENTO</h1>"
   ]
  },
  {
   "cell_type": "markdown",
   "id": "9fcca3c9",
   "metadata": {},
   "source": [
    " toma de imagenes parte1\n"
   ]
  },
  {
   "cell_type": "code",
   "execution_count": 2,
   "id": "9f88af7e",
   "metadata": {},
   "outputs": [],
   "source": [
    "import cv2\n",
    "import os\n",
    "\n",
    "nombre = \"Nombre_persona\"  \n",
    "ruta = f'dataset/{nombre}'\n",
    "os.makedirs(ruta, exist_ok=True)\n",
    "\n",
    "cap = cv2.VideoCapture(0)\n",
    "face_cascade = cv2.CascadeClassifier(cv2.data.haarcascades + 'haarcascade_frontalface_default.xml')\n",
    "\n",
    "count = 0\n",
    "while True:\n",
    "    ret, frame = cap.read()\n",
    "    if not ret:\n",
    "        break\n",
    "\n",
    "    gray = cv2.cvtColor(frame, cv2.COLOR_BGR2GRAY)\n",
    "    faces = face_cascade.detectMultiScale(gray, 1.3, 5)\n",
    "\n",
    "    for (x, y, w, h) in faces:\n",
    "        rostro = gray[y:y+h, x:x+w]\n",
    "        cv2.imwrite(f\"{ruta}/{count}.jpg\", rostro)\n",
    "        count += 1\n",
    "        cv2.rectangle(frame, (x, y), (x+w, y+h), (255, 0, 0), 2)\n",
    "\n",
    "    cv2.imshow('Captura de rostros', frame)\n",
    "    if cv2.waitKey(1) == 27 or count >= 20:\n",
    "        break\n",
    "\n",
    "cap.release()\n",
    "cv2.destroyAllWindows()\n"
   ]
  },
  {
   "cell_type": "code",
   "execution_count": 3,
   "id": "85740ad3",
   "metadata": {},
   "outputs": [],
   "source": [
    "from cv2 import face\n",
    "import numpy as np\n",
    "\n",
    "def get_images_and_labels(dataset_path='dataset'):\n",
    "    faces = []\n",
    "    labels = []\n",
    "    label_map = {}\n",
    "    label_id = 0\n",
    "\n",
    "    for person in os.listdir(dataset_path):\n",
    "        person_path = os.path.join(dataset_path, person)\n",
    "        if not os.path.isdir(person_path):\n",
    "            continue\n",
    "        label_map[label_id] = person\n",
    "        for image_name in os.listdir(person_path):\n",
    "            img_path = os.path.join(person_path, image_name)\n",
    "            img = cv2.imread(img_path, cv2.IMREAD_GRAYSCALE)\n",
    "            faces.append(img)\n",
    "            labels.append(label_id)\n",
    "        label_id += 1\n",
    "\n",
    "    return faces, np.array(labels), label_map\n",
    "\n",
    "faces, labels, label_map = get_images_and_labels()\n",
    "recognizer = face.LBPHFaceRecognizer_create()\n",
    "recognizer.train(faces, labels)\n",
    "\n",
    "os.makedirs(\"recognizer\", exist_ok=True)\n",
    "recognizer.save('recognizer/trainer.yml')\n",
    "\n",
    "import pickle\n",
    "with open(\"recognizer/labels.pickle\", \"wb\") as f:\n",
    "    pickle.dump(label_map,f)"
   ]
  },
  {
   "cell_type": "code",
   "execution_count": 4,
   "id": "2497756d",
   "metadata": {},
   "outputs": [],
   "source": [
    "import pickle\n",
    "\n",
    "recognizer = face.LBPHFaceRecognizer_create()\n",
    "recognizer.read('recognizer/trainer.yml')\n",
    "\n",
    "with open(\"recognizer/labels.pickle\", \"rb\") as f:\n",
    "    label_map = pickle.load(f)\n",
    "\n",
    "cap = cv2.VideoCapture(0)\n",
    "face_cascade = cv2.CascadeClassifier(cv2.data.haarcascades + 'haarcascade_frontalface_default.xml')\n",
    "\n",
    "while True:\n",
    "    ret, frame = cap.read()\n",
    "    if not ret:\n",
    "        break\n",
    "\n",
    "    gray = cv2.cvtColor(frame, cv2.COLOR_BGR2GRAY)\n",
    "    faces = face_cascade.detectMultiScale(gray, 1.3, 5)\n",
    "\n",
    "    for (x, y, w, h) in faces:\n",
    "        rostro = gray[y:y+h, x:x+w]\n",
    "        id_, conf = recognizer.predict(rostro)\n",
    "        if conf < 70:\n",
    "            nombre = label_map[id_]\n",
    "        else:\n",
    "            nombre = \"Desconocido\"\n",
    "\n",
    "        cv2.putText(frame, nombre, (x, y - 10), cv2.FONT_HERSHEY_SIMPLEX, 1, (0,255,0), 2)\n",
    "        cv2.rectangle(frame, (x, y), (x+w, y+h), (0, 255, 0), 2)\n",
    "\n",
    "    cv2.imshow('Reconocimiento de rostros', frame)\n",
    "    if cv2.waitKey(1) == 27:\n",
    "        break\n",
    "\n",
    "cap.release()\n",
    "cv2.destroyAllWindows()"
   ]
  }
 ],
 "metadata": {
  "kernelspec": {
   "display_name": "entorno_pdi2",
   "language": "python",
   "name": "python3"
  },
  "language_info": {
   "codemirror_mode": {
    "name": "ipython",
    "version": 3
   },
   "file_extension": ".py",
   "mimetype": "text/x-python",
   "name": "python",
   "nbconvert_exporter": "python",
   "pygments_lexer": "ipython3",
   "version": "3.10.16"
  }
 },
 "nbformat": 4,
 "nbformat_minor": 5
}
