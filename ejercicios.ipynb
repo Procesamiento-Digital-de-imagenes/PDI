{
 "cells": [
  {
   "cell_type": "markdown",
   "metadata": {},
   "source": [
    "Ejercicio 1\n",
    "input:\n",
    "7"
   ]
  },
  {
   "cell_type": "code",
   "execution_count": 23,
   "metadata": {},
   "outputs": [
    {
     "name": "stdout",
     "output_type": "stream",
     "text": [
      "5040\n"
     ]
    }
   ],
   "source": [
    "a=int(input(\"ingrese un numero\"))\n",
    "factorial=1\n",
    "for i in range(1,a+1):\n",
    "    factorial=factorial*i\n",
    "print(factorial)    "
   ]
  },
  {
   "cell_type": "markdown",
   "metadata": {},
   "source": [
    "Ejercicio 2\n",
    "input:\n",
    "53"
   ]
  },
  {
   "cell_type": "code",
   "execution_count": 30,
   "metadata": {},
   "outputs": [
    {
     "name": "stdout",
     "output_type": "stream",
     "text": [
      "el numero 53 es primo\n"
     ]
    }
   ],
   "source": [
    "def is_primo(num):\n",
    "    for i in range(2,int(num**0.5)):\n",
    "        if(num%i==0):\n",
    "            return False\n",
    "    return True\n",
    "\n",
    "num=int(input(\"ingrese un numero \"))\n",
    "if(is_primo(num)):\n",
    "    print(f\"el numero {num} es primo\")\n",
    "else:\n",
    "    print(f\"el numero {num} no es primo\")\n"
   ]
  },
  {
   "cell_type": "markdown",
   "metadata": {},
   "source": [
    "Ejercicio 3\n",
    "input:\n",
    "4 , 1 2 3 4"
   ]
  },
  {
   "cell_type": "code",
   "execution_count": 28,
   "metadata": {},
   "outputs": [
    {
     "name": "stdout",
     "output_type": "stream",
     "text": [
      "el mayor es 4\n",
      "el menor es 1\n"
     ]
    }
   ],
   "source": [
    "def mayor_menor(array):\n",
    "    mayor=array[0]\n",
    "    menor=mayor\n",
    "    for i in array:\n",
    "        if(i>mayor):\n",
    "            mayor=i\n",
    "        elif(i<menor):\n",
    "            menor=i\n",
    "    print(f\"el mayor es {mayor}\")\n",
    "    print(f\"el menor es {menor}\")\n",
    "\n",
    "menu=True\n",
    "array=[]\n",
    "while(menu):\n",
    "    cantidad=int(input(\"ingrese la cantidad de numeros a introducir: \"))\n",
    "    for i in range(1,cantidad+1):\n",
    "        num=int(input(\"ingrese un numero\"))\n",
    "        array.append(num)\n",
    "    mayor_menor(array)\n",
    "    menu=False\n",
    "        "
   ]
  },
  {
   "cell_type": "markdown",
   "metadata": {},
   "source": [
    "Ejercicio 4\n",
    "input: oso\n"
   ]
  },
  {
   "cell_type": "code",
   "execution_count": 29,
   "metadata": {},
   "outputs": [
    {
     "name": "stdout",
     "output_type": "stream",
     "text": [
      "la palabra oso es palidroma\n"
     ]
    }
   ],
   "source": [
    "word=input(\"ingrese una palabra\")\n",
    "resultado=\"\"\n",
    "for i in range(len(word)-1,-1,-1):\n",
    "    resultado+=word[i]\n",
    "if(resultado==word):\n",
    "    print(f\"la palabra {word} es palidroma\")\n",
    "else:\n",
    "    print(f\"la palabra {word} no es palindroma\")"
   ]
  },
  {
   "cell_type": "markdown",
   "metadata": {},
   "source": [
    "Ejercicio 5\n"
   ]
  },
  {
   "cell_type": "code",
   "execution_count": 3,
   "metadata": {},
   "outputs": [
    {
     "name": "stdout",
     "output_type": "stream",
     "text": [
      "el numero 4 se repite 2\n"
     ]
    }
   ],
   "source": [
    "array=[2,3,4,2,1,4,5]\n",
    "array.sort()\n",
    "num=array[0]\n",
    "cantidad=0\n",
    "num2=0\n",
    "cantidad2=0\n",
    "for i in array:\n",
    "    if(num==i):\n",
    "        cantidad=cantidad+1\n",
    "    else:\n",
    "        num=array[i]\n",
    "        if cantidad>cantidad2:\n",
    "            cantidad2= cantidad\n",
    "            cantidad=0\n",
    "            num2=num\n",
    "        else:\n",
    "            continue\n",
    "print(f\"el numero {num2} se repite {cantidad2}\")\n"
   ]
  }
 ],
 "metadata": {
  "kernelspec": {
   "display_name": "entorno_pdi",
   "language": "python",
   "name": "python3"
  },
  "language_info": {
   "codemirror_mode": {
    "name": "ipython",
    "version": 3
   },
   "file_extension": ".py",
   "mimetype": "text/x-python",
   "name": "python",
   "nbconvert_exporter": "python",
   "pygments_lexer": "ipython3",
   "version": "3.10.16"
  }
 },
 "nbformat": 4,
 "nbformat_minor": 2
}
