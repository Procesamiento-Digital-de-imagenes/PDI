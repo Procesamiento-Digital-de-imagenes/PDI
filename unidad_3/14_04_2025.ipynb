{
 "cells": [
  {
   "cell_type": "markdown",
   "id": "3259af91",
   "metadata": {},
   "source": [
    "Alasing"
   ]
  },
  {
   "cell_type": "markdown",
   "id": "b07e2696",
   "metadata": {},
   "source": [
    "El aliasing es cuanod vemos lo bordes de una imagen, en la actulidad debido a que las camaras utilizadas permiten una mayor captura de pixeles debido a su resolucion permitiendo que los border o en este caso el Aliasing sea casi inperseptible "
   ]
  },
  {
   "cell_type": "markdown",
   "id": "fb63fa2f",
   "metadata": {},
   "source": [
    "Moire"
   ]
  },
  {
   "cell_type": "markdown",
   "id": "9e8756ac",
   "metadata": {},
   "source": [
    "Es un patron que se puede  sucitar debido a la existencia de huecos entre dos patrones de color ,mas amenudo sucede en fotografia digital y no en fotografia analogica.\n",
    "el patron se da debido que el pixel no llega a poder almacenar la infomacion del hueco entre los colores generando un error al momento de capturar la imagen"
   ]
  },
  {
   "cell_type": "markdown",
   "id": "a3997188",
   "metadata": {},
   "source": [
    "Ejercicio1"
   ]
  },
  {
   "cell_type": "code",
   "execution_count": null,
   "id": "10c4792f",
   "metadata": {},
   "outputs": [],
   "source": [
    "import cv2\n",
    "import matplotlib.pyplot as plt\n",
    "import numpy as np\n",
    "\n",
    "\n",
    "def convolucion_media_diagonal(imagen,tamanioKernal):\n",
    "    kernel=np.ones((1,tamanioKernal),np.float32)/tamanioKernal\n",
    "    \n",
    "    imgFin=cv2.filter2D(imagen,-1,kernel)\n",
    "    return imgFin\n",
    "\n",
    "path='../imagenes/Ej1.jpg'\n",
    "\n",
    "\n",
    "imagen=cv2.imread(path)\n",
    "gris=cv2.cvtColor(imagen,cv2.COLOR_BGR2GRAY)\n",
    "imagen_rest=convolucion_media_diagonal(gris,9)\n",
    "\n",
    "\n",
    "\n"
   ]
  }
 ],
 "metadata": {
  "kernelspec": {
   "display_name": "entorno_pdi",
   "language": "python",
   "name": "python3"
  },
  "language_info": {
   "codemirror_mode": {
    "name": "ipython",
    "version": 3
   },
   "file_extension": ".py",
   "mimetype": "text/x-python",
   "name": "python",
   "nbconvert_exporter": "python",
   "pygments_lexer": "ipython3",
   "version": "3.10.16"
  }
 },
 "nbformat": 4,
 "nbformat_minor": 5
}
