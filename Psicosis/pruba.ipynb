{
 "cells": [
  {
   "cell_type": "code",
   "execution_count": null,
   "id": "7555e93e",
   "metadata": {},
   "outputs": [
    {
     "name": "stdout",
     "output_type": "stream",
     "text": [
      "Texto extraído:\n"
     ]
    }
   ],
   "source": [
    "import skimage as sk\n",
    "import cv2\n",
    "import pytesseract\n",
    "\n",
    "\n",
    "\n",
    "# Carga la imagen usando skimage\n",
    "image = sk.io.imread('./resultados/prueba1.png')\n",
    "\n",
    "# Usa pytesseract para extraer el texto de la imagen\n",
    "text = pytesseract.image_to_string(image)\n",
    "\n",
    "print(f\"Texto extraído:{text}\")\n"
   ]
  }
 ],
 "metadata": {
  "kernelspec": {
   "display_name": "Psicosis",
   "language": "python",
   "name": "python3"
  },
  "language_info": {
   "codemirror_mode": {
    "name": "ipython",
    "version": 3
   },
   "file_extension": ".py",
   "mimetype": "text/x-python",
   "name": "python",
   "nbconvert_exporter": "python",
   "pygments_lexer": "ipython3",
   "version": "3.10.16"
  }
 },
 "nbformat": 4,
 "nbformat_minor": 5
}
